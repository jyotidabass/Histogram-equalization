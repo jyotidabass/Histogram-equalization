{
  "nbformat": 4,
  "nbformat_minor": 0,
  "metadata": {
    "colab": {
      "name": "Histogram Equalization.ipynb",
      "provenance": [],
      "authorship_tag": "ABX9TyMw8mqsMQx4jeSxB2x9OP/I",
      "include_colab_link": true
    },
    "kernelspec": {
      "name": "python3",
      "display_name": "Python 3"
    },
    "language_info": {
      "name": "python"
    }
  },
  "cells": [
    {
      "cell_type": "markdown",
      "metadata": {
        "id": "view-in-github",
        "colab_type": "text"
      },
      "source": [
        "<a href=\"https://colab.research.google.com/github/jyotidabass/Histogram-equalization/blob/main/Histogram_Equalization.ipynb\" target=\"_parent\"><img src=\"https://colab.research.google.com/assets/colab-badge.svg\" alt=\"Open In Colab\"/></a>"
      ]
    },
    {
      "cell_type": "code",
      "execution_count": 1,
      "metadata": {
        "colab": {
          "base_uri": "https://localhost:8080/",
          "height": 541
        },
        "id": "hU_0dLbDK0Kj",
        "outputId": "9e247a63-4633-4715-b55e-d4947356e1c1"
      },
      "outputs": [
        {
          "output_type": "display_data",
          "data": {
            "text/plain": [
              "<Figure size 432x288 with 1 Axes>"
            ],
            "image/png": "[encoded data removed]"
          },
          "metadata": {
            "needs_background": "light"
          }
        },
        {
          "output_type": "display_data",
          "data": {
            "text/plain": [
              "<Figure size 432x288 with 1 Axes>"
            ],
            "image/png": "[encoded data removed]"
          },
          "metadata": {
            "needs_background": "light"
          }
        }
      ],
      "source": [
        "from PIL import Image\n",
        "import matplotlib.pyplot as plt\n",
        "import cv2\n",
        "import numpy as np\n",
        "\n",
        "img = cv2.imread('/content/476001T_st.png',0)\n",
        "\n",
        "#Initialize intensity values with 256 zeroes\n",
        "intensity_count = [0] * 256         \n",
        "\n",
        "height,width = img.shape[:2]        \n",
        "N = height * width                  \n",
        "\n",
        "\t#Array for new_image\n",
        "high_contrast = np.zeros(img.shape) \n",
        "\n",
        "for i in range(0,height):\n",
        "    \t\tfor j in range(0,width):\n",
        "        \t\t\tintensity_count[img[i][j]] += 1     #Find pixels count for each intensity\n",
        "\n",
        "L = 256\n",
        "\n",
        "intensity_count,total_values_used = np.histogram(img.flatten(),L,[0,L])      \n",
        "pdf_list = np.ceil(intensity_count*(L-1)/img.size)                    #Calculate PDF\n",
        "cdf_list = pdf_list.cumsum()                                            \t#Calculate CDF\n",
        "\n",
        "\n",
        "for y in range(0, height):\n",
        "    \t\tfor x in range(0, width): \n",
        "\t\t\t#Apply the new intensities in our new image\n",
        "        \t\t\thigh_contrast[y,x] = cdf_list[img[y,x]]                         \n",
        "\n",
        "\t\n",
        "#PLOT THE HISTOGRAMS\n",
        "cv2.imwrite('high_contrast.png', high_contrast)                         \n",
        "\n",
        "plt.hist(img.ravel(),256,[0,256])\n",
        "plt.xlabel('Intensity Values')\n",
        "plt.ylabel('Pixel Count')\n",
        "plt.show()\n",
        "\n",
        "plt.hist(high_contrast.ravel(),256,[0,256])\t\n",
        "plt.xlabel('Intensity Values')\n",
        "plt.ylabel('Pixel Count')\n",
        "plt.show()"
      ]
    }
  ]
}